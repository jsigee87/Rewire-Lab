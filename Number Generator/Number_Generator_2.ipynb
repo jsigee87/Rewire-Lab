{
 "cells": [
  {
   "cell_type": "code",
   "execution_count": 71,
   "metadata": {},
   "outputs": [],
   "source": [
    "import random as rm\n",
    "import numpy as np\n",
    "import pandas as pd\n",
    "#import os\n",
    "\n",
    "class randGenerator():\n",
    "    def __init__(self):\n",
    "        self.f0 = 0.25\n",
    "        self.f1 = 0.5\n",
    "        self.f2 = 0.75\n",
    "        self.f3 = 1\n",
    "        self.desired_len = 192\n",
    "        self.sequence = np.zeros(self.desired_len, dtype=np.int)\n",
    "\n",
    "    def generate(self):\n",
    "        self.f0 = 0.25\n",
    "        self.f1 = 0.5\n",
    "        self.f2 = 0.75\n",
    "        self.f3 = 1\n",
    "        self.sequence = np.zeros(self.desired_len, dtype=np.int)\n",
    "        for i in range(self.desired_len):\n",
    "            rand = rm.uniform(0,1)\n",
    "            \n",
    "            # or x = random.random()\n",
    "            # or x = int.from_bytes(os.urandom(8), byteorder=\"big\") / ((1 << 64) - 1)\n",
    "    \n",
    "            # if we are not at the very beginning of sequence\n",
    "            # we can name the prev state\n",
    "            if i != 0:\n",
    "                prev = self.sequence[i - 1]       \n",
    "    \n",
    "            # otherwise we call it something impossible\n",
    "            else:\n",
    "                prev = -1\n",
    "            \n",
    "            next = self.pickNext(prev,rand)\n",
    "            self.sequence[i] = next\n",
    "            \n",
    "        return self.sequence\n",
    "        \n",
    "    def pickNext(self, prev, rand):\n",
    "        if rand < self.f0:\n",
    "            next = 0\n",
    "        elif rand >= self.f0 and rand < self.f1:\n",
    "            next = 1\n",
    "        elif rand >= self.f1 and rand < self.f2:\n",
    "            next = 2\n",
    "        elif rand >= self.f2 and rand <= self.f3:\n",
    "            next = 3\n",
    "        \n",
    "        if next == prev:\n",
    "            return self.pickNext(prev,rm.uniform(0,1))\n",
    "        else:\n",
    "            return next\n",
    "    \n",
    "    def peekTransitions(self):\n",
    "        counts = np.zeros((4,4))\n",
    "        for i in range(self.desired_len -1):\n",
    "            counts[self.sequence[i]][self.sequence[i+1]] +=1\n",
    "    \n",
    "        df = pd.DataFrame(counts)\n",
    "        print(df)"
   ]
  },
  {
   "cell_type": "code",
   "execution_count": 72,
   "metadata": {},
   "outputs": [
    {
     "name": "stdout",
     "output_type": "stream",
     "text": [
      "[3 2 3 2 0 1 2 0 3 2 1 3 2 3 1 3 0 2 3 0 2 0 1 0 1 0 3 0 3 1 0 3 0 3 0 3 2\n",
      " 1 2 1 3 0 3 2 3 2 3 0 3 2 0 1 3 1 2 3 0 2 1 2 3 2 1 0 2 1 3 2 0 1 3 2 3 2\n",
      " 1 2 1 3 2 1 0 3 1 3 1 2 1 0 1 2 1 3 1 3 1 2 3 2 0 1 3 2 1 0 1 2 1 0 2 1 2\n",
      " 3 2 0 3 2 1 0 3 2 0 2 3 2 1 0 2 3 2 0 1 0 3 1 2 1 0 1 0 2 1 0 3 2 0 3 1 2\n",
      " 1 2 0 2 1 0 1 2 3 0 3 1 2 1 3 1 0 2 3 1 3 0 1 3 0 1 0 2 1 0 1 2 0 3 1 2 3\n",
      " 0 1 0 3 0 2 3]\n"
     ]
    }
   ],
   "source": [
    "mygen = randGenerator()\n",
    "seq = mygen.generate()\n",
    "print(seq)"
   ]
  },
  {
   "cell_type": "code",
   "execution_count": 74,
   "metadata": {},
   "outputs": [
    {
     "name": "stdout",
     "output_type": "stream",
     "text": [
      "      0     1     2     3\n",
      "0   0.0  15.0  12.0  17.0\n",
      "1  19.0   0.0  17.0  14.0\n",
      "2  12.0  22.0   0.0  16.0\n",
      "3  13.0  13.0  21.0   0.0\n"
     ]
    }
   ],
   "source": [
    "mygen.peekTransitions()"
   ]
  }
 ],
 "metadata": {
  "kernelspec": {
   "display_name": "Python 3",
   "language": "python",
   "name": "python3"
  },
  "language_info": {
   "codemirror_mode": {
    "name": "ipython",
    "version": 3
   },
   "file_extension": ".py",
   "mimetype": "text/x-python",
   "name": "python",
   "nbconvert_exporter": "python",
   "pygments_lexer": "ipython3",
   "version": "3.6.3"
  }
 },
 "nbformat": 4,
 "nbformat_minor": 2
}
