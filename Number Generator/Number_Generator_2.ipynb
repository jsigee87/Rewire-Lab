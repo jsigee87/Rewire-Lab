{
 "cells": [
  {
   "cell_type": "code",
   "execution_count": 60,
   "metadata": {},
   "outputs": [],
   "source": [
    "import random as rm\n",
    "import numpy as np\n",
    "import pandas as pd\n",
    "#import os\n",
    "\n",
    "##################################################################\n",
    "# 1.) make an object instance\n",
    "# 2.) a sequence is automatically generated\n",
    "# 3.) call helper methods to get the sequence, transitions, or counts\n",
    "##################################################################\n",
    "\n",
    "class randGenerator():\n",
    "    def __init__(self):\n",
    "        self.filters = [0.25, 0.5, 0.75]\n",
    "        self.counts = 0.1*np.ones(4)\n",
    "        self.desired_len = 192\n",
    "        self.sequence = np.zeros(self.desired_len, dtype=np.int)\n",
    "        self.__generate()\n",
    "\n",
    "    def __generate(self):\n",
    "        self.filters = [0.25, 0.5, 0.75]\n",
    "        self.sequence = np.zeros(self.desired_len, dtype=np.int)\n",
    "        for i in range(self.desired_len):\n",
    "            rand = rm.uniform(0,1)\n",
    "            \n",
    "            # or x = random.random()\n",
    "            # or x = int.from_bytes(os.urandom(8), byteorder=\"big\") / ((1 << 64) - 1)\n",
    "    \n",
    "            # if we are not at the very beginning of sequence\n",
    "            # we can name the prev state\n",
    "            if i != 0:\n",
    "                prev = self.sequence[i - 1]       \n",
    "    \n",
    "            # otherwise we call it something impossible\n",
    "            else:\n",
    "                prev = -1\n",
    "            \n",
    "            next = self.__pickNext(prev,rand)\n",
    "            self.__adjustFilters(next)\n",
    "            self.sequence[i] = next\n",
    "              \n",
    "    def __pickNext(self, prev, rand):\n",
    "        # select next state based on which interval contains the random number\n",
    "        \n",
    "        if rand < self.filters[0]:\n",
    "            next = 0\n",
    "        elif rand >= self.filters[0] and rand < self.filters[1]:\n",
    "            next = 1\n",
    "        elif rand >= self.filters[1] and rand < self.filters[2]:\n",
    "            next = 2\n",
    "        elif rand >= self.filters[2]:\n",
    "            next = 3\n",
    "        \n",
    "        # if it happens to be equal to the previous state, try again\n",
    "        \n",
    "        if next == prev:\n",
    "            return self.__pickNext(prev,rm.uniform(0,1))\n",
    "        else:\n",
    "            return next\n",
    "        \n",
    "    def __adjustFilters(self, next):\n",
    "        self.__adjustCounts(next)\n",
    "        N = np.sum(self.counts)\n",
    "        self.filters[0] = self.counts[0]/N\n",
    "        self.filters[1] = self.counts[1]/N + self.counts[0]/N\n",
    "        self.filters[2] = self.counts[2]/N + self.counts[1]/N + self.counts[0]/N\n",
    "   \n",
    "    def __adjustCounts(self, next):\n",
    "        for i in range(len(self.counts)):\n",
    "            if i != next:\n",
    "                self.counts[i] += np.sum(self.sequence)**2              # Can adjust weighting here\n",
    "   \n",
    "    ########################################################################\n",
    "    # use these functions to access the sequence and elements of interest\n",
    "    #########################################################################\n",
    "    \n",
    "    def getSequence(self):\n",
    "        print(self.sequence)\n",
    "    \n",
    "    def getTransitions(self):\n",
    "        transitions = np.zeros((4,4))\n",
    "        \n",
    "        for i in range(self.desired_len -1):\n",
    "            transitions[self.sequence[i]][self.sequence[i+1]] +=1\n",
    "    \n",
    "        df = pd.DataFrame(transitions)\n",
    "        print(df)\n",
    "        \n",
    "    def getCounts(self):\n",
    "        unique, counts = np.unique(self.sequence, return_counts=True)\n",
    "        print(dict(zip(unique, counts)))\n",
    "        \n",
    "    def getFilters(self):\n",
    "        print(self.filters)"
   ]
  },
  {
   "cell_type": "code",
   "execution_count": 61,
   "metadata": {},
   "outputs": [
    {
     "name": "stdout",
     "output_type": "stream",
     "text": [
      "[3 1 3 0 1 3 2 0 2 0 3 1 2 1 2 1 0 3 2 1 2 3 1 2 3 2 3 1 0 3 1 0 1 3 0 3 2\n",
      " 0 3 2 3 1 2 1 3 1 2 0 3 1 3 0 2 1 0 3 0 2 3 2 3 0 1 0 2 1 2 3 0 1 0 1 3 2\n",
      " 0 3 1 3 2 3 0 3 2 3 1 2 1 0 1 3 1 0 2 0 3 2 1 3 0 1 3 1 0 1 3 1 2 1 2 3 2\n",
      " 1 3 2 1 3 2 3 1 0 1 0 1 2 0 1 0 1 0 3 0 3 1 3 2 3 1 3 0 3 0 1 2 1 0 2 1 2\n",
      " 0 2 3 0 3 2 1 0 1 2 0 3 0 3 2 1 3 0 3 0 2 3 0 1 2 1 2 3 1 2 0 2 3 2 0 2 3\n",
      " 2 0 2 3 0 3 1]\n"
     ]
    }
   ],
   "source": [
    "myobject = randGenerator()\n",
    "myobject.getSequence()"
   ]
  },
  {
   "cell_type": "code",
   "execution_count": 62,
   "metadata": {},
   "outputs": [
    {
     "name": "stdout",
     "output_type": "stream",
     "text": [
      "      0     1     2     3\n",
      "0   0.0  15.0  11.0  18.0\n",
      "1  15.0   0.0  17.0  16.0\n",
      "2  12.0  16.0   0.0  18.0\n",
      "3  17.0  18.0  18.0   0.0\n",
      "{0: 44, 1: 49, 2: 46, 3: 53}\n",
      "[0.25032598666563993, 0.50732754698030591, 0.75436476715623058]\n"
     ]
    }
   ],
   "source": [
    "myobject.getTransitions()\n",
    "myobject.getCounts()\n",
    "myobject.getFilters()"
   ]
  },
  {
   "cell_type": "code",
   "execution_count": 63,
   "metadata": {},
   "outputs": [
    {
     "name": "stdout",
     "output_type": "stream",
     "text": [
      "[2 3 2 1 3 1 3 2 1 0 2 0 3 0 2 1 0 1 3 2 3 0 2 1 0 1 2 1 2 1 3 2 1 2 3 2 1\n",
      " 2 1 3 1 3 0 3 0 3 1 3 1 2 3 2 1 2 3 1 0 2 3 0 3 0 1 3 1 3 2 1 3 1 0 2 0 3\n",
      " 1 2 1 0 2 0 1 3 2 1 0 2 3 0 1 2 0 3 1 0 1 0 1 0 2 3 2 0 3 2 3 2 1 2 3 0 2\n",
      " 0 2 3 0 3 2 1 2 1 3 0 3 0 2 1 0 2 3 2 3 1 0 1 3 0 3 2 1 3 0 1 3 1 0 2 0 3\n",
      " 1 3 0 3 0 1 3 0 1 0 2 3 2 3 2 1 0 3 2 1 0 2 3 0 3 1 2 0 2 1 3 0 3 0 3 1 3\n",
      " 2 0 1 2 3 2 3]\n"
     ]
    }
   ],
   "source": [
    "myobject2 = randGenerator()\n",
    "myobject2.getSequence()"
   ]
  },
  {
   "cell_type": "code",
   "execution_count": 64,
   "metadata": {},
   "outputs": [
    {
     "name": "stdout",
     "output_type": "stream",
     "text": [
      "      0     1     2     3\n",
      "0   0.0  12.0  16.0  16.0\n",
      "1  16.0   0.0  12.0  19.0\n",
      "2   9.0  21.0   0.0  18.0\n",
      "3  19.0  14.0  19.0   0.0\n",
      "{0: 44, 1: 47, 2: 48, 3: 53}\n",
      "[0.24927493188854341, 0.51119315282914768, 0.76597666989437574]\n"
     ]
    }
   ],
   "source": [
    "myobject2.getTransitions()\n",
    "myobject2.getCounts()\n",
    "myobject2.getFilters()"
   ]
  },
  {
   "cell_type": "code",
   "execution_count": null,
   "metadata": {},
   "outputs": [],
   "source": []
  }
 ],
 "metadata": {
  "kernelspec": {
   "display_name": "Python 3",
   "language": "python",
   "name": "python3"
  },
  "language_info": {
   "codemirror_mode": {
    "name": "ipython",
    "version": 3
   },
   "file_extension": ".py",
   "mimetype": "text/x-python",
   "name": "python",
   "nbconvert_exporter": "python",
   "pygments_lexer": "ipython3",
   "version": "3.6.3"
  }
 },
 "nbformat": 4,
 "nbformat_minor": 2
}
