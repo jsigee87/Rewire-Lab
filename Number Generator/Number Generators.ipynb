{
 "cells": [
  {
   "cell_type": "code",
   "execution_count": 24,
   "metadata": {},
   "outputs": [
    {
     "name": "stdout",
     "output_type": "stream",
     "text": [
      "[ 1.  3.  1.  2.  3.  2.  3.  1.  0.  1.  2.  3.  0.  3.  1.  2.  0.  3.\n",
      "  2.  0.  1.  3.  1.  2.  1.  3.  0.  2.  0.  3.  1.  2.  0.  1.  2.  3.\n",
      "  1.  3.  2.  1.  0.  2.  3.  2.  3.  2.  1.  3.  0.  3.  2.  1.  3.  2.\n",
      "  1.  0.  3.  1.  2.  1.  0.  2.  3.  2.  0.  2.  1.  2.  1.  0.  2.  0.\n",
      "  1.  3.  0.  3.  0.  3.  0.  1.  0.  3.  2.  3.  0.  1.  2.  3.  0.  1.\n",
      "  0.  2.  3.  0.  2.  0.  3.  2.  0.  2.  3.  1.  3.  0.  1.  3.  0.  3.\n",
      "  2.  3.  0.  1.  3.  2.  1.  3.  2.  1.  3.  2.  1.  3.  1.  3.  0.  2.\n",
      "  3.  1.  0.  1.  0.  1.  0.  2.  1.  2.  0.  3.  1.  0.  2.  1.  2.  3.\n",
      "  1.  0.  1.  2.  0.  3.  1.  2.  1.  2.  1.  0.  3.  1.  0.  1.  0.  1.\n",
      "  2.  3.  1.  3.  2.  0.  3.  0.  2.  0.  1.  3.  1.  0.  2.  3.  2.  3.\n",
      "  0.  2.  0.  2.  0.  2.  3.  2.  0.  1.  0.  1.  2.  3.  0.  2.  0.  3.\n",
      "  0.  1.]\n"
     ]
    }
   ],
   "source": [
    "import numpy as np\n",
    "\n",
    "sequence = []\n",
    "chunk = np.array([0,1,2,3])\n",
    "for i in range(50):\n",
    "    sequence = np.append(sequence, chunk)\n",
    "\n",
    "np.random.shuffle(sequence)\n",
    "count = 0\n",
    "for i in range(len(sequence)):\n",
    "    while sequence[i] == sequence [i -1]:\n",
    "        a = sequence[:i]\n",
    "        b = sequence[i:]\n",
    "        np.random.shuffle(b)\n",
    "        sequence = np.append(a,b)\n",
    "           \n",
    "   \n",
    "print(sequence)"
   ]
  },
  {
   "cell_type": "code",
   "execution_count": 27,
   "metadata": {},
   "outputs": [
    {
     "data": {
      "text/plain": [
       "{0.0: 50, 1.0: 50, 2.0: 50, 3.0: 50}"
      ]
     },
     "execution_count": 27,
     "metadata": {},
     "output_type": "execute_result"
    }
   ],
   "source": [
    "unique, counts = np.unique(sequence, return_counts=True)\n",
    "dict(zip(unique, counts))"
   ]
  },
  {
   "cell_type": "code",
   "execution_count": 36,
   "metadata": {},
   "outputs": [],
   "source": [
    "import numpy as np\n",
    "\n",
    "class seqGenerator():\n",
    "    def __init__(self, num_states):\n",
    "        #desired_length = 12\n",
    "        # note - desired length is hard coded in makeBlock\n",
    "        self.sequence = []\n",
    "        \n",
    "        self.num_states = num_states \n",
    "        \n",
    "        # instead of crashing or throwing a warning, we keep track of\n",
    "        # how many incorrect transitions there are\n",
    "        self.error_counter = 0\n",
    "    \n",
    "        #initialize the matrix, all diagonals = -1\n",
    "        self.adj_matrix = np.zeros((self.num_states,self.num_states))\n",
    "        for i in range(self.num_states):\n",
    "            for j in range(self.num_states):\n",
    "                self.adj_matrix[i][j] = 0\n",
    "   \n",
    "    # this function finds the next state by attempting to greedily choose\n",
    "    # in order to keep the number of transitions 'even'.\n",
    "    def __findNext(self, current):  \n",
    "        #max is updated as we search for the next state with the max number\n",
    "        # of zero entries in its AM row\n",
    "        max = 0\n",
    "        \n",
    "        for j in range(self.num_states):\n",
    "            # if the column is not the same state as current state\n",
    "            if current != j:\n",
    "                # if this transition has not already occured\n",
    "                if self.adj_matrix[current][j] == 0:\n",
    "                    # see how many null transitions the canditate next state has\n",
    "                    count = np.sum(1-self.adj_matrix[j][:])\n",
    "                    if  count > max:\n",
    "                        max = count\n",
    "                        next = j                 \n",
    "                        \n",
    "        assert type(next) == int, \"next not found\"\n",
    "        return next\n",
    "\n",
    "    \n",
    "    def makeBlock(self, state):\n",
    "        self.sequence.append(state)\n",
    "    \n",
    "        # if not first element in sequence, mark the transition, \n",
    "        # and track sum of each row (transitions)\n",
    "        if len(self.sequence) != 1:\n",
    "            prev = self.sequence[len(self.sequence) - 2]    #this should be the value of prev state\n",
    "            self.adj_matrix[prev][state] += 1       #we increment to mark that this transition has occured\n",
    "       \n",
    "        next_state = self.__findNext(state)\n",
    "    \n",
    "        # if we reached our desired length, append the next state and return\n",
    "        if(len(self.sequence) == 12):\n",
    "            return self.sequence.append(next_state)\n",
    "    \n",
    "        #else keep building\n",
    "        return self.makeBlock(next_state)\n",
    "        "
   ]
  },
  {
   "cell_type": "code",
   "execution_count": 43,
   "metadata": {},
   "outputs": [
    {
     "name": "stdout",
     "output_type": "stream",
     "text": [
      "[3, 0, 1, 2, 0, 2, 1, 3, 1, 0, 3, 2, 3]\n",
      "[[ 0.  1.  1.  1.]\n",
      " [ 1.  0.  1.  1.]\n",
      " [ 1.  1.  0.  0.]\n",
      " [ 1.  1.  1.  0.]]\n"
     ]
    }
   ],
   "source": [
    "block = seqGenerator(4)\n",
    "seq = block.makeBlock(3)\n",
    "print(block.sequence)\n",
    "print(block.adj_matrix)"
   ]
  },
  {
   "cell_type": "code",
   "execution_count": null,
   "metadata": {},
   "outputs": [],
   "source": []
  }
 ],
 "metadata": {
  "kernelspec": {
   "display_name": "Python 3",
   "language": "python",
   "name": "python3"
  },
  "language_info": {
   "codemirror_mode": {
    "name": "ipython",
    "version": 3
   },
   "file_extension": ".py",
   "mimetype": "text/x-python",
   "name": "python",
   "nbconvert_exporter": "python",
   "pygments_lexer": "ipython3",
   "version": "3.6.3"
  }
 },
 "nbformat": 4,
 "nbformat_minor": 2
}
