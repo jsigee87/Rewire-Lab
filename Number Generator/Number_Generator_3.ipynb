{
 "cells": [
  {
   "cell_type": "code",
   "execution_count": null,
   "metadata": {},
   "outputs": [],
   "source": [
    "###############################################\n",
    "# This generator makes a list of appropriate len,\n",
    "# then shuffles it, then iterates over the whole\n",
    "# array. If two states are equal, it shuffles the\n",
    "# remaining array and continues on.\n",
    "##############################################\n",
    "\n",
    "import numpy as np\n",
    "\n",
    "sequence = []\n",
    "chunk = np.array([0,1,2,3])\n",
    "for i in range(50):\n",
    "    sequence = np.append(sequence, chunk)\n",
    "\n",
    "np.random.shuffle(sequence)\n",
    "count = 0\n",
    "for i in range(len(sequence)):\n",
    "    while sequence[i] == sequence [i -1]:\n",
    "        a = sequence[:i]\n",
    "        b = sequence[i:]\n",
    "        np.random.shuffle(b)\n",
    "        sequence = np.append(a,b)  \n",
    "print(sequence)"
   ]
  }
 ],
 "metadata": {
  "kernelspec": {
   "display_name": "Python 3",
   "language": "python",
   "name": "python3"
  },
  "language_info": {
   "codemirror_mode": {
    "name": "ipython",
    "version": 3
   },
   "file_extension": ".py",
   "mimetype": "text/x-python",
   "name": "python",
   "nbconvert_exporter": "python",
   "pygments_lexer": "ipython3",
   "version": "3.6.3"
  }
 },
 "nbformat": 4,
 "nbformat_minor": 2
}
